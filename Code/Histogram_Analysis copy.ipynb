{
 "cells": [
  {
   "cell_type": "markdown",
   "id": "deafeb18",
   "metadata": {},
   "source": [
    "# Histogram Analysis\n",
    "## Inter-Arrival Times and Service Times with best fit distributions"
   ]
  },
  {
   "cell_type": "markdown",
   "id": "be7e0e06",
   "metadata": {},
   "source": [
    "    "
   ]
  },
  {
   "cell_type": "markdown",
   "id": "ac59d4e9",
   "metadata": {},
   "source": [
    "**Imports**"
   ]
  },
  {
   "cell_type": "code",
   "execution_count": 5,
   "id": "185ca694",
   "metadata": {},
   "outputs": [],
   "source": [
    "import matplotlib.pyplot as plt\n",
    "import numpy as np\n",
    "import scipy\n",
    "import scipy.stats as st\n",
    "import read_data as rd\n",
    "\n",
    "plt.rcParams.update({\n",
    "    \"text.usetex\": True,\n",
    "    \"font.family\": \"sans-serif\",\n",
    "    \"font.sans-serif\": [\"Computer Modern Serif\"]})\n",
    "\n",
    "plt.rcParams.update({'font.size': 14})\n",
    "plt.rc('text', usetex=True)\n",
    "plt.rc('text.latex', preamble=r'\\usepackage{amsmath}')\n"
   ]
  },
  {
   "cell_type": "markdown",
   "id": "66912312",
   "metadata": {},
   "source": [
    "**Read Data**"
   ]
  },
  {
   "cell_type": "code",
   "execution_count": 6,
   "id": "4d3f8863",
   "metadata": {},
   "outputs": [],
   "source": [
    "import os\n",
    "from pathlib import Path\n",
    "\n",
    "filenames = [str(Path(os.path.abspath('')).parent) + \"\\Data Collection\\KevinYeData.txt\",\n",
    "            str(Path(os.path.abspath('')).parent) + \"\\Data Collection\\dataviviandong.txt\",\n",
    "            str(Path(os.path.abspath('')).parent) + \"\\Data Collection\\PatrickQData.txt\",\n",
    "            str(Path(os.path.abspath('')).parent) + \"\\Data Collection\\TamaHoareData.txt\"]\n",
    "results = rd.ReadData(filenames=filenames)\n",
    "AllArrivals = results[0]\n",
    "AllServices = results[1]"
   ]
  },
  {
   "cell_type": "markdown",
   "id": "4b07142d",
   "metadata": {},
   "source": [
    "**Methods**"
   ]
  },
  {
   "cell_type": "code",
   "execution_count": 7,
   "id": "cb6cc048",
   "metadata": {},
   "outputs": [],
   "source": [
    "#DETERMINING BINS FOR HISTOGRAM\n",
    "def bin(m):\n",
    "    q25, q75 = np.percentile(m, [25, 75])\n",
    "    bin_width = 2 * (q75 - q25) * len(m) ** (-1/3)\n",
    "    bins = round((max(m) - min(m)) / bin_width)\n",
    "    return bins"
   ]
  },
  {
   "cell_type": "markdown",
   "id": "765b3225",
   "metadata": {},
   "source": [
    "## Results"
   ]
  },
  {
   "cell_type": "markdown",
   "id": "78bd832c",
   "metadata": {},
   "source": [
    "**Data and Frequencies**"
   ]
  },
  {
   "cell_type": "code",
   "execution_count": 8,
   "id": "11c28d9c",
   "metadata": {
    "scrolled": true
   },
   "outputs": [
    {
     "data": {
      "image/png": "[encoded data removed]",
      "text/plain": [
       "<Figure size 432x288 with 1 Axes>"
      ]
     },
     "metadata": {
      "needs_background": "light"
     },
     "output_type": "display_data"
    }
   ],
   "source": [
    "plt.rcParams.update({\n",
    "    \"text.usetex\": True,\n",
    "    \"font.family\": \"sans-serif\",\n",
    "    \"font.sans-serif\": [\"Computer Modern Serif\"]})\n",
    "\n",
    "fig, ax = plt.subplots(tight_layout=True)\n",
    "ax.hist(AllArrivals, density = True, bins = bin(AllArrivals), rwidth = 0.9)\n",
    "mn, mx = ax.set_xlim()\n",
    "ax.set_xlim(mn, mx)\n",
    "ax.set_ylabel(r\"\\textnormal{Proportion}\")\n",
    "ax.set_xlabel(r'\\textnormal{time (s)}')\n",
    "ax.set_title(r'\\textnormal{Inter-Arrival Times}')\n",
    "\n",
    "plt.savefig(\"fig1.pdf\", format=\"pdf\", bbox_inches=\"tight\")\n",
    "plt.show()"
   ]
  },
  {
   "cell_type": "code",
   "execution_count": 9,
   "id": "6ce90bd8",
   "metadata": {
    "scrolled": false
   },
   "outputs": [
    {
     "data": {
      "image/png": "[encoded data removed]",
      "text/plain": [
       "<Figure size 432x288 with 1 Axes>"
      ]
     },
     "metadata": {
      "needs_background": "light"
     },
     "output_type": "display_data"
    }
   ],
   "source": [
    "fig, ax = plt.subplots(tight_layout=True)\n",
    "ax.hist(AllServices, density = True, bins = bin(AllServices), rwidth = 0.9)\n",
    "mn, mx = ax.set_xlim()\n",
    "ax.set_xlim(mn, mx)\n",
    "ax.set_ylabel(r\"\\textnormal{Proportion}\")\n",
    "ax.set_xlabel(r'\\textnormal{time (s)}')\n",
    "ax.set_title(r'\\textnormal{Service Times}')\n",
    "\n",
    "plt.savefig(\"fig2.pdf\", format=\"pdf\", bbox_inches=\"tight\")\n",
    "plt.show()"
   ]
  },
  {
   "cell_type": "markdown",
   "id": "a230af1a",
   "metadata": {},
   "source": [
    "    "
   ]
  },
  {
   "cell_type": "markdown",
   "id": "4c8169aa",
   "metadata": {},
   "source": [
    "**With Betterment of fit**"
   ]
  },
  {
   "cell_type": "markdown",
   "id": "457a7f08",
   "metadata": {},
   "source": [
    "From our analysis, it suggests that Pearson3 is the best in approximating ‘inter-arrival time’ Data. This analysis is shown below:"
   ]
  },
  {
   "cell_type": "code",
   "execution_count": 10,
   "id": "7377aace",
   "metadata": {},
   "outputs": [
    {
     "name": "stdout",
     "output_type": "stream",
     "text": [
      "PDF parameters are: 2.43659632424228 89.15123787553043 108.61278925458328\n"
     ]
    },
    {
     "name": "stderr",
     "output_type": "stream",
     "text": [
      "findfont: Font family ['sans-serif'] not found. Falling back to DejaVu Sans.\n"
     ]
    },
    {
     "data": {
      "image/png": "[encoded data removed]",
      "text/plain": [
       "<Figure size 432x288 with 1 Axes>"
      ]
     },
     "metadata": {
      "needs_background": "light"
     },
     "output_type": "display_data"
    }
   ],
   "source": [
    "##Inter-Arrivals\n",
    "fig, ax = plt.subplots(1, 1)\n",
    "ap, bp, cp = st.pearson3.fit(AllArrivals)\n",
    "\n",
    "x = np.linspace(st.pearson3.ppf(0.05, ap, bp, cp),\n",
    "                st.pearson3.ppf(0.9992, ap, bp, cp), len(AllArrivals))\n",
    "\n",
    "ax.plot(x, st.pearson3.pdf(x, ap,bp,cp),\n",
    "       'r-', label=r'\\textnormal{Pearson3 PDF}')\n",
    "\n",
    "ax.hist(AllArrivals, density=True, histtype='stepfilled',bins=50, label = r\"\\textnormal{Data}\")\n",
    "\n",
    "#Plot Best Fit Distribution\n",
    "ax.set_ylabel(r\"\\textnormal{Proportion}\")\n",
    "ax.set_xlabel(r'\\textnormal{time (s)}')\n",
    "ax.set_title(r'\\textnormal{Histogram of Interarrival times with Pearson3 pdf}')\n",
    "ax.legend()\n",
    "\n",
    "print(\"PDF parameters are:\", ap, bp, cp)\n",
    "\n",
    "plt.savefig(\"fig3.pdf\", format=\"pdf\", bbox_inches=\"tight\")\n",
    "plt.show()"
   ]
  },
  {
   "cell_type": "markdown",
   "id": "77a5838d",
   "metadata": {},
   "source": [
    "For our 'service times' data, it suggests that beta distribution is the best fit for the data. This analysis is shown below:"
   ]
  },
  {
   "cell_type": "code",
   "execution_count": 11,
   "id": "a277337a",
   "metadata": {
    "scrolled": false
   },
   "outputs": [
    {
     "name": "stderr",
     "output_type": "stream",
     "text": [
      "c:\\Users\\PDPDK\\Anaconda\\lib\\site-packages\\scipy\\stats\\_continuous_distns.py:621: RuntimeWarning: invalid value encountered in sqrt\n",
      "  sk = 2*(b-a)*np.sqrt(a + b + 1) / (a + b + 2) / np.sqrt(a*b)\n"
     ]
    },
    {
     "name": "stdout",
     "output_type": "stream",
     "text": [
      "PDF parameters are: 1.4923327932636143 15.801670930407775 7.642594962182772\n"
     ]
    },
    {
     "data": {
      "image/png": "[encoded data removed]",
      "text/plain": [
       "<Figure size 432x288 with 1 Axes>"
      ]
     },
     "metadata": {
      "needs_background": "light"
     },
     "output_type": "display_data"
    }
   ],
   "source": [
    "#Service Times\n",
    "#plot Histogram\n",
    "fig, ax = plt.subplots(tight_layout=True)\n",
    "ax.hist(AllServices, density = True, bins = bin(AllServices), rwidth = 0.9,label = r\"\\textnormal{Data}\")\n",
    "mn, mx = ax.set_xlim()\n",
    "ax.set_xlim(mn, mx)\n",
    "##Plot Best Fit Distribution\n",
    "Sermin, Sermax = min(AllServices), max(AllServices)  \n",
    "\n",
    "lnspcSer = np.linspace(Sermin, Sermax, len(AllServices))#For Services\n",
    "\n",
    "ab,bb,cb,db = st.beta.fit(AllServices)  #Fitting\n",
    "pdf_beta = st.beta.pdf(lnspcSer, ab, bb,cb, db)  \n",
    "\n",
    "ax.plot(lnspcSer, pdf_beta, label=r\"\\textnormal{Beta PDF}\")\n",
    "\n",
    "\n",
    "ax.set_title(r\"\\textnormal{Histogram of Service times with Beta pdf}\")\n",
    "ax.set_xlabel(r\"\\textnormal{times (s)}\")\n",
    "ax.set_ylabel(r\"\\textnormal{Proportion}\")\n",
    "ax.legend()\n",
    "\n",
    "print(\"PDF parameters are:\", ab, bb, cb)\n",
    "\n",
    "plt.savefig(\"fig4.pdf\", format=\"pdf\", bbox_inches=\"tight\")\n",
    "plt.show()"
   ]
  },
  {
   "cell_type": "markdown",
   "id": "6f56e177",
   "metadata": {},
   "source": [
    "**Comparing**\n"
   ]
  },
  {
   "cell_type": "markdown",
   "id": "2f25e42d",
   "metadata": {},
   "source": [
    "Upon putting the best fit distributions onto the original histogram data, we can see how good of a fit they are. Both the Beta and Pearson3 distribution are well distributed along the data"
   ]
  },
  {
   "cell_type": "markdown",
   "id": "d39e7c73",
   "metadata": {},
   "source": [
    "*Disclamer: There appears to be a RuntimeWarning on the Beta plot. Although, it seems to be working well and the PDF is well distributed along the data.*"
   ]
  }
 ],
 "metadata": {
  "interpreter": {
   "hash": "6b995c587bfca392f6a8664946034fced53f03b903d006503e000a6b9a9b0eaa"
  },
  "kernelspec": {
   "display_name": "Python 3",
   "language": "python",
   "name": "python3"
  },
  "language_info": {
   "codemirror_mode": {
    "name": "ipython",
    "version": 3
   },
   "file_extension": ".py",
   "mimetype": "text/x-python",
   "name": "python",
   "nbconvert_exporter": "python",
   "pygments_lexer": "ipython3",
   "version": "3.8.8"
  }
 },
 "nbformat": 4,
 "nbformat_minor": 5
}
