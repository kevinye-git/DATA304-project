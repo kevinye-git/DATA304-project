{
 "cells": [
  {
   "cell_type": "code",
   "execution_count": 2,
   "id": "db602681",
   "metadata": {},
   "outputs": [],
   "source": [
    "from SimPy.Simulation import *\n",
    "import random\n",
    "import numpy as np\n",
    "import math\n",
    "import read_data as rd"
   ]
  },
  {
   "cell_type": "code",
   "execution_count": 3,
   "id": "62f29c9d",
   "metadata": {},
   "outputs": [
    {
     "name": "stdout",
     "output_type": "stream",
     "text": [
      "mean arrival rate:0.008310517468785045 per second\n",
      "mean service rate:0.008279591609419837 per second\n"
     ]
    }
   ],
   "source": [
    "from pathlib import Path\n",
    "import os\n",
    "filenames = [str(Path(os.path.abspath('')).parent) + \"\\Data Collection\\KevinYeData.txt\",\n",
    "            str(Path(os.path.abspath('')).parent) + \"\\Data Collection\\dataviviandong.txt\",\n",
    "            str(Path(os.path.abspath('')).parent) + \"\\Data Collection\\PatrickQData.txt\",\n",
    "            str(Path(os.path.abspath('')).parent) + \"\\Data Collection\\TamaHoareData.txt\"]\n",
    "results = rd.ReadData(filenames)\n",
    "AllArrivals = results[0]\n",
    "ArrivalRate = 1/np.mean(AllArrivals)\n",
    "AllServices = results[1]\n",
    "ServiceRate = 1/np.mean(AllServices)\n",
    "print(\"mean arrival rate:\" + str(ArrivalRate) + \" per second\")\n",
    "print(\"mean service rate:\" + str(ServiceRate) + \" per second\")"
   ]
  },
  {
   "cell_type": "code",
   "execution_count": 4,
   "id": "219cf03c",
   "metadata": {},
   "outputs": [],
   "source": [
    "def conf(L):\n",
    "    \"\"\"confidence interval\"\"\"\n",
    "    lower = np.mean(L) - 1.96*np.std(L)/math.sqrt(len(L))\n",
    "    upper = np.mean(L) + 1.96*np.std(L)/math.sqrt(len(L))\n",
    "    return lower, upper"
   ]
  },
  {
   "cell_type": "code",
   "execution_count": 5,
   "id": "95a99983",
   "metadata": {},
   "outputs": [],
   "source": [
    "class Source(Process):\n",
    "    \"\"\"generate random arrivals\"\"\"\n",
    "    def run(self, N):\n",
    "        for i in range(N):\n",
    "            a = Arrival(str(i))\n",
    "            activate(a, a.run())\n",
    "            t = random.expovariate(ArrivalRate)\n",
    "            yield hold, self, t"
   ]
  },
  {
   "cell_type": "code",
   "execution_count": 6,
   "id": "b62fc091",
   "metadata": {},
   "outputs": [],
   "source": [
    "class Arrival(Process):\n",
    "    \"\"\"an arrival\"\"\"\n",
    "    n=0 #class variable, number in system\n",
    "\n",
    "    def run(self):\n",
    "        Arrival.n +=1\n",
    "        arrivetime = now()\n",
    "        G.numbermon.observe(Arrival.n)\n",
    "        if (Arrival.n>0):\n",
    "            G.busymon.observe(1)\n",
    "        else:\n",
    "            G.busymon.observe(0)\n",
    "        yield request, self, G.server\n",
    "        yield hold, self, random.expovariate(ServiceRate)\n",
    "        yield release, self, G.server\n",
    "        Arrival.n -=1\n",
    "        G.numbermon.observe(Arrival.n)\n",
    "        if (Arrival.n>0):\n",
    "            G.busymon.observe(1)\n",
    "        else:\n",
    "            G.busymon.observe(0)\n",
    "        delay = now()-arrivetime\n",
    "        G.delaymon.observe(delay)\n"
   ]
  },
  {
   "cell_type": "code",
   "execution_count": 7,
   "id": "866a5af5",
   "metadata": {},
   "outputs": [],
   "source": [
    "class G:\n",
    "    server = 'dummy'\n",
    "    delaymon = 'Monitor' #observe time spent in system\n",
    "    numbermon = \"Monitor\" #observe number customer in system\n",
    "    busymon = 'Monitor' #observe time servers are busy"
   ]
  },
  {
   "cell_type": "code",
   "execution_count": 8,
   "id": "633b21bd",
   "metadata": {},
   "outputs": [],
   "source": [
    "def model(N, maxtime, rvseed,K):\n",
    "    # setup\n",
    "    initialize()\n",
    "    random.seed(rvseed)\n",
    "    G.server = Resource(K)\n",
    "    G.delaymon = Monitor()\n",
    "    G.numbermon = Monitor()\n",
    "    G.busymon = Monitor()\n",
    "\n",
    "\n",
    "    Arrival.n = 0\n",
    "    # simulate\n",
    "    s = Source('Source')\n",
    "    activate(s, s.run(N))\n",
    "    simulate(until=maxtime)\n",
    "\n",
    "    # gather performance measures\n",
    "    W = G.delaymon.mean()\n",
    "    L = G.numbermon.timeAverage()\n",
    "    B = G.busymon.timeAverage()\n",
    "    return W, L, B"
   ]
  },
  {
   "cell_type": "markdown",
   "id": "5f720227",
   "metadata": {},
   "source": [
    "The LAB Cafe is open from 7.30am to 3pm a total of 7.5 hours per day which is equivalent to 27000 seconds which would be the maxtime of each simulation."
   ]
  },
  {
   "cell_type": "code",
   "execution_count": 9,
   "id": "c99de1a8",
   "metadata": {},
   "outputs": [
    {
     "name": "stdout",
     "output_type": "stream",
     "text": [
      "=================\n",
      "When K= 3\n",
      "    Estimate of W: 124.33303596116097\n",
      "    Conf int of W: (122.0551359913271, 126.61093593099484)\n",
      "    Estimate of L: 1.0435912057915153\n",
      "    Conf int of L: (1.016670225824624, 1.0705121857584066)\n",
      "    Estimate of B: 0.641133566988506\n",
      "    Conf int of B: (0.6306433427033502, 0.6516237912736618)\n",
      "    Estimate of LambdaEffective: 0.00839529474026536\n",
      "    Conf int of LambdaEffective: (0.008226262032210921, 0.0085643274483198)\n"
     ]
    }
   ],
   "source": [
    "## Experiment ----------------\n",
    "\n",
    "for Kap in [3]:\n",
    "    allW = []\n",
    "    allL = []\n",
    "    allB = []\n",
    "    allLambdaEffective = []\n",
    "\n",
    "    for k in range(50):\n",
    "        seed = 123*k\n",
    "        result = model(N=10000, maxtime=27000, rvseed=seed,K=Kap)\n",
    "        allW.append(result[0])\n",
    "        allL.append(result[1])\n",
    "        allB.append(result[2])\n",
    "        allLambdaEffective.append(result[1]/result[0])\n",
    "\n",
    "\n",
    "    print(\"=================\")\n",
    "    print(\"When K=\",Kap)\n",
    "    print(\"    Estimate of W:\", np.mean(allW))\n",
    "    print(\"    Conf int of W:\", conf(allW))\n",
    "    print(\"    Estimate of L:\", np.mean(allL))\n",
    "    print(\"    Conf int of L:\", conf(allL))\n",
    "    print(\"    Estimate of B:\", np.mean(allB))\n",
    "    print(\"    Conf int of B:\", conf(allB))\n",
    "    print(\"    Estimate of LambdaEffective:\", np.mean(allLambdaEffective))\n",
    "    print(\"    Conf int of LambdaEffective:\", conf(allLambdaEffective))"
   ]
  }
 ],
 "metadata": {
  "interpreter": {
   "hash": "6b995c587bfca392f6a8664946034fced53f03b903d006503e000a6b9a9b0eaa"
  },
  "kernelspec": {
   "display_name": "Python 3.8.8 ('base')",
   "language": "python",
   "name": "python3"
  },
  "language_info": {
   "codemirror_mode": {
    "name": "ipython",
    "version": 3
   },
   "file_extension": ".py",
   "mimetype": "text/x-python",
   "name": "python",
   "nbconvert_exporter": "python",
   "pygments_lexer": "ipython3",
   "version": "3.8.8"
  }
 },
 "nbformat": 4,
 "nbformat_minor": 5
}
