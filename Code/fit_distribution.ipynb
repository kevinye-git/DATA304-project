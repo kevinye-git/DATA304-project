{
 "cells": [
  {
   "cell_type": "code",
   "execution_count": 1,
   "metadata": {},
   "outputs": [],
   "source": [
    "import re\n",
    "import pandas as pd\n",
    "import numpy as np\n",
    "# from mlutils import dataset, connector\n",
    "import scipy.stats\n",
    "from scipy.stats import *\n",
    "import scipy.stats as stats\n",
    "\n",
    "from sklearn.preprocessing import StandardScaler\n",
    "import math\n",
    "import matplotlib.pyplot as plt\n",
    "import warnings\n",
    "import statsmodels.api as sm \n",
    "import seaborn as sns\n",
    "import pylab as py \n",
    "warnings.filterwarnings('ignore')\n",
    "%matplotlib inline"
   ]
  },
  {
   "cell_type": "code",
   "execution_count": 2,
   "metadata": {},
   "outputs": [],
   "source": [
    "def standarise(y,pct,pct_lower):\n",
    "    sc = StandardScaler() \n",
    "    y.sort()\n",
    "    len_y = len(y)\n",
    "    y = y[int(pct_lower * len_y):int(len_y * pct)]\n",
    "    len_y = len(y)\n",
    "    yy=([[x] for x in y])\n",
    "    sc.fit(yy)\n",
    "    y_std =sc.transform(yy)\n",
    "    y_std = y_std.flatten()\n",
    "    return y_std,len_y,y"
   ]
  },
  {
   "cell_type": "code",
   "execution_count": 3,
   "metadata": {},
   "outputs": [],
   "source": [
    "def fit_distribution(column,pct,pct_lower):\n",
    "    # Set up list of candidate distributions to use\n",
    "    # See https://docs.scipy.org/doc/scipy/reference/stats.html for more\n",
    "    y_std,size,y_org = standarise(column,pct,pct_lower)\n",
    "    dist_names = ['weibull_min','norm','weibull_max','beta',\n",
    "                 'invgauss','uniform','gamma','expon', 'lognorm','pearson3','triang','erlang']\n",
    "\n",
    "    chi_square_statistics = []\n",
    "    # 11 bins\n",
    "    percentile_bins = np.linspace(0,100,11)\n",
    "    percentile_cutoffs = np.percentile(y_std, percentile_bins)\n",
    "    observed_frequency, bins = (np.histogram(y_std, bins=percentile_cutoffs))\n",
    "    cum_observed_frequency = np.cumsum(observed_frequency)\n",
    "\n",
    "    # Loop through candidate distributions\n",
    "\n",
    "    for distribution in dist_names:\n",
    "        # Set up distribution and get fitted distribution parameters\n",
    "        dist = getattr(scipy.stats, distribution)\n",
    "        param = dist.fit(y_std)\n",
    "        print(\"{}\\n{}\\n\".format(dist, param))\n",
    "      \n",
    "\n",
    "        # Get expected counts in percentile bins\n",
    "        # cdf of fitted sistrinution across bins\n",
    "        cdf_fitted = dist.cdf(percentile_cutoffs, *param)\n",
    "        expected_frequency = []\n",
    "        for bin in range(len(percentile_bins)-1):\n",
    "            expected_cdf_area = cdf_fitted[bin+1] - cdf_fitted[bin]\n",
    "            expected_frequency.append(expected_cdf_area)\n",
    "\n",
    "        # Chi-square Statistics\n",
    "        expected_frequency = np.array(expected_frequency) * size\n",
    "        cum_expected_frequency = np.cumsum(expected_frequency)\n",
    "        ss = round(sum (((cum_expected_frequency - cum_observed_frequency) ** 2) / cum_observed_frequency),6)\n",
    "        chi_square_statistics.append(ss)\n",
    "\n",
    "\n",
    "    #Sort by minimum ch-square statistics\n",
    "    results = pd.DataFrame()\n",
    "    results['Distribution'] = dist_names\n",
    "    results['chi_square'] = chi_square_statistics\n",
    "    results.sort_values(['chi_square'], inplace=True)\n",
    "\n",
    "\n",
    "    print('\\nDistributions listed by Betterment of fit:')\n",
    "    print('............................................')\n",
    "    print(results)"
   ]
  },
  {
   "cell_type": "markdown",
   "metadata": {},
   "source": [
    "## Interarrival times and Service times"
   ]
  },
  {
   "cell_type": "code",
   "execution_count": 4,
   "metadata": {},
   "outputs": [],
   "source": [
    "import read_data as rd"
   ]
  },
  {
   "cell_type": "code",
   "execution_count": 5,
   "metadata": {},
   "outputs": [],
   "source": [
    "import os\n",
    "from pathlib import Path\n",
    "\n",
    "filenames = [str(Path(os.path.abspath('')).parent) + \"\\Data Collection\\KevinYeData.txt\",\n",
    "            str(Path(os.path.abspath('')).parent) + \"\\Data Collection\\dataviviandong.txt\",\n",
    "            str(Path(os.path.abspath('')).parent) + \"\\Data Collection\\PatrickQData.txt\",\n",
    "            str(Path(os.path.abspath('')).parent) + \"\\Data Collection\\TamaHoareData.txt\"]\n",
    "results = rd.ReadData(filenames=filenames)\n",
    "AllArrivals = results[0]\n",
    "AllServices = results[1]"
   ]
  },
  {
   "cell_type": "code",
   "execution_count": 6,
   "metadata": {},
   "outputs": [
    {
     "name": "stdout",
     "output_type": "stream",
     "text": [
      "<scipy.stats._continuous_distns.weibull_min_gen object at 0x000002A703337FA0>\n",
      "(0.7015384049768638, -0.9894365309023049, 1.2006676444778561)\n",
      "\n",
      "<scipy.stats._continuous_distns.norm_gen object at 0x000002A7032E2EB0>\n",
      "(0.0, 1.0)\n",
      "\n",
      "<scipy.stats._continuous_distns.weibull_max_gen object at 0x000002A703342070>\n",
      "(0.7019179793807708, 3.26754168282175, 1.2352709611338757)\n",
      "\n",
      "<scipy.stats._continuous_distns.beta_gen object at 0x000002A7033119A0>\n",
      "(0.5869141736933967, 2.0230692974358018, -0.9894365309023049, 5.611707278987666)\n",
      "\n",
      "<scipy.stats._continuous_distns.invgauss_gen object at 0x000002A703357040>\n",
      "(1.3774125862615234, -1.133748597072893, 0.8230934376760495)\n",
      "\n",
      "<scipy.stats._continuous_distns.uniform_gen object at 0x000002A7033B4910>\n",
      "(-0.9894365309023048, 4.256978213724054)\n",
      "\n",
      "<scipy.stats._continuous_distns.gamma_gen object at 0x000002A703342FD0>\n",
      "(0.8667586476420364, -0.989436530902305, 0.8160179858473148)\n",
      "\n",
      "<scipy.stats._continuous_distns.expon_gen object at 0x000002A7033299D0>\n",
      "(-0.9894365309023048, 0.9894365309023048)\n",
      "\n",
      "<scipy.stats._continuous_distns.lognorm_gen object at 0x000002A703377610>\n",
      "(1.2285098631304354, -1.040346141653061, 0.5785087400178923)\n",
      "\n",
      "<scipy.stats._continuous_distns.pearson3_gen object at 0x000002A703397AC0>\n",
      "(2.416641101443037, -0.007126039833642914, 1.1869459535476108)\n",
      "\n",
      "<scipy.stats._continuous_distns.triang_gen object at 0x000002A70339FBE0>\n",
      "(1.2422294892673428e-07, -0.9894371622132272, 4.384475250138744)\n",
      "\n",
      "<scipy.stats._continuous_distns.erlang_gen object at 0x000002A70334F100>\n",
      "(0.34939810853283576, -0.9894365309023049, 1.0870659237131632)\n",
      "\n",
      "\n",
      "Distributions listed by Betterment of fit:\n",
      "............................................\n",
      "   Distribution   chi_square\n",
      "9      pearson3     9.155252\n",
      "0   weibull_min    13.245287\n",
      "3          beta    21.708357\n",
      "8       lognorm    25.596288\n",
      "4      invgauss    29.389634\n",
      "7         expon    29.515278\n",
      "6         gamma    48.359331\n",
      "10       triang   209.930441\n",
      "1          norm   332.531278\n",
      "5       uniform   510.690318\n",
      "11       erlang   672.400334\n",
      "2   weibull_max  1137.915014\n"
     ]
    }
   ],
   "source": [
    "fit_distribution(AllArrivals,0.99,0.01)"
   ]
  },
  {
   "cell_type": "code",
   "execution_count": 7,
   "metadata": {},
   "outputs": [
    {
     "name": "stdout",
     "output_type": "stream",
     "text": [
      "<scipy.stats._continuous_distns.weibull_min_gen object at 0x000002A703337FA0>\n",
      "(1.2771714921950053, -1.2958750507447454, 1.3965158029229956)\n",
      "\n",
      "<scipy.stats._continuous_distns.norm_gen object at 0x000002A7032E2EB0>\n",
      "(-1.3448758405553947e-16, 0.9999999999999999)\n",
      "\n",
      "<scipy.stats._continuous_distns.weibull_max_gen object at 0x000002A703342070>\n",
      "(0.7088599016352515, 3.1486712840616633, 1.2507073667198347)\n",
      "\n",
      "<scipy.stats._continuous_distns.beta_gen object at 0x000002A7033119A0>\n",
      "(1.169328787311814, 4.603218177027601, -1.2938279407948883, 6.418076728180601)\n",
      "\n",
      "<scipy.stats._continuous_distns.invgauss_gen object at 0x000002A703357040>\n",
      "(0.4698497549488414, -1.6286272546397809, 3.4662638467893183)\n",
      "\n",
      "<scipy.stats._continuous_distns.uniform_gen object at 0x000002A7033B4910>\n",
      "(-1.2924111429457916, 4.441082427007455)\n",
      "\n",
      "<scipy.stats._continuous_distns.gamma_gen object at 0x000002A703342FD0>\n",
      "(1.4735014952989527, -1.3003337972240427, 0.882459117699409)\n",
      "\n",
      "<scipy.stats._continuous_distns.expon_gen object at 0x000002A7033299D0>\n",
      "(-1.2924111429457916, 1.2924111429457914)\n",
      "\n",
      "<scipy.stats._continuous_distns.lognorm_gen object at 0x000002A703377610>\n",
      "(0.6731930530194032, -1.5554556326439215, 1.258664637941075)\n",
      "\n",
      "<scipy.stats._continuous_distns.pearson3_gen object at 0x000002A703397AC0>\n",
      "(1.6476143121145541, -1.5950207493546993e-17, 1.0712335638157982)\n",
      "\n",
      "<scipy.stats._continuous_distns.triang_gen object at 0x000002A70339FBE0>\n",
      "(0.02332622632016261, -1.3149179115755778, 4.59688627626827)\n",
      "\n",
      "<scipy.stats._continuous_distns.erlang_gen object at 0x000002A70334F100>\n",
      "(1.4735836332147951, -1.300343744879871, 0.8824094844571524)\n",
      "\n",
      "\n",
      "Distributions listed by Betterment of fit:\n",
      "............................................\n",
      "   Distribution   chi_square\n",
      "3          beta     1.231338\n",
      "0   weibull_min     2.831316\n",
      "9      pearson3     4.130412\n",
      "6         gamma     4.131762\n",
      "11       erlang     4.132443\n",
      "4      invgauss    10.560874\n",
      "8       lognorm    11.688749\n",
      "7         expon    29.775131\n",
      "10       triang    39.441479\n",
      "1          norm   140.194689\n",
      "5       uniform   305.594183\n",
      "2   weibull_max  1080.829277\n"
     ]
    }
   ],
   "source": [
    "fit_distribution(AllServices,0.99,0.01)"
   ]
  },
  {
   "cell_type": "markdown",
   "metadata": {},
   "source": [
    "## Fitting different Distributions and checking Goodness of fit based on Chi-square Statistics.\n",
    "\n",
    "Based on the Chi-sqaure Statistics, it suggests that Pearson3 is the best in approximating ‘inter-arrival time’ Data.\n",
    "\n",
    "We can also see that beta distribution is the best fit for service times.\n",
    "\n",
    "The code used in this file is from https://github.com/mungoliabhishek/Distribution-Fitting-Used_Car_Dataset/blob/master/Workbook.ipynb"
   ]
  }
 ],
 "metadata": {
  "interpreter": {
   "hash": "6b995c587bfca392f6a8664946034fced53f03b903d006503e000a6b9a9b0eaa"
  },
  "kernelspec": {
   "display_name": "Python 3.8.8 ('base')",
   "language": "python",
   "name": "python3"
  },
  "language_info": {
   "codemirror_mode": {
    "name": "ipython",
    "version": 3
   },
   "file_extension": ".py",
   "mimetype": "text/x-python",
   "name": "python",
   "nbconvert_exporter": "python",
   "pygments_lexer": "ipython3",
   "version": "3.8.8"
  }
 },
 "nbformat": 4,
 "nbformat_minor": 4
}
