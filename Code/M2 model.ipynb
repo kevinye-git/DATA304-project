{
 "cells": [
  {
   "cell_type": "code",
   "execution_count": 1,
   "metadata": {},
   "outputs": [],
   "source": [
    "from SimPy.Simulation import *\n",
    "import random\n",
    "import numpy as np\n",
    "import math\n",
    "import read_data as rd\n",
    "import scipy\n",
    "import scipy.stats as st"
   ]
  },
  {
   "cell_type": "code",
   "execution_count": 2,
   "metadata": {},
   "outputs": [],
   "source": [
    "import os\n",
    "from pathlib import Path\n",
    "\n",
    "filenames = [str(Path(os.path.abspath('')).parent) + \"\\Data Collection\\KevinYeData.txt\",\n",
    "            str(Path(os.path.abspath('')).parent) + \"\\Data Collection\\dataviviandong.txt\",\n",
    "            str(Path(os.path.abspath('')).parent) + \"\\Data Collection\\PatrickQData.txt\",\n",
    "            str(Path(os.path.abspath('')).parent) + \"\\Data Collection\\TamaHoareData.txt\"]\n",
    "results = rd.ReadData(filenames=filenames)\n",
    "AllArrivals = results[0]\n",
    "AllServices = results[1]"
   ]
  },
  {
   "cell_type": "code",
   "execution_count": 13,
   "metadata": {},
   "outputs": [],
   "source": [
    "def conf(L):\n",
    "    \"\"\"confidence interval\"\"\"\n",
    "    lower = np.mean(L) - 1.96*np.std(L)/math.sqrt(len(L))\n",
    "    upper = np.mean(L) + 1.96*np.std(L)/math.sqrt(len(L))\n",
    "    return lower, upper"
   ]
  },
  {
   "cell_type": "code",
   "execution_count": 14,
   "metadata": {},
   "outputs": [
    {
     "name": "stdout",
     "output_type": "stream",
     "text": [
      "2.43659632424228 89.15123787553043 108.61278925458328\n"
     ]
    }
   ],
   "source": [
    "#From our analysis, it suggests that Pearson3 is the best in approximating ‘inter-arrival time’ Data.\n",
    "# Pearson3 Distribution Parameters\n",
    "P3skew,P3loc,P3scale = st.pearson3.fit(AllArrivals)\n",
    "print(P3skew,P3loc,P3scale)"
   ]
  },
  {
   "cell_type": "code",
   "execution_count": 21,
   "metadata": {},
   "outputs": [
    {
     "name": "stdout",
     "output_type": "stream",
     "text": [
      "1.4923327932636143 15.801670930407775 7.642594962182772 1311.3920705953165\n"
     ]
    }
   ],
   "source": [
    "# For our 'service times' data, it suggests that beta distribution is the best fit for the data.\n",
    "# Beta Distribution Parameters\n",
    "beta_a, beta_b,beta_loc,beta_scale = st.beta.fit(AllServices)\n",
    "print(beta_a,beta_b,beta_loc,beta_scale)"
   ]
  },
  {
   "cell_type": "code",
   "execution_count": 15,
   "metadata": {},
   "outputs": [],
   "source": [
    "class Source(Process):\n",
    "    \"\"\"generate random arrivals\"\"\"\n",
    "    def run(self, N):\n",
    "        for i in range(N):\n",
    "            a = Arrival(str(i))\n",
    "            activate(a, a.run())\n",
    "            t = abs(st.pearson3.rvs(skew=P3skew,loc=P3loc,scale=P3scale))\n",
    "            yield hold, self, t"
   ]
  },
  {
   "cell_type": "code",
   "execution_count": 16,
   "metadata": {},
   "outputs": [],
   "source": [
    "class Arrival(Process):\n",
    "    \"\"\"an arrival\"\"\"\n",
    "    n=0 \n",
    "\n",
    "    def run(self):\n",
    "        Arrival.n +=1\n",
    "        \n",
    "        arrivetime = now()\n",
    "        \n",
    "        G.numbermon.observe(Arrival.n)\n",
    "        \n",
    "        if (Arrival.n>0):\n",
    "            G.busymon.observe(1)\n",
    "        else:\n",
    "            G.busymon.observe(0)\n",
    "            \n",
    "        yield request, self, G.server\n",
    "        yield hold, self, st.beta.rvs(a=beta_a,b=beta_b,loc=beta_loc,scale=beta_scale)\n",
    "        yield release, self, G.server\n",
    "        \n",
    "        Arrival.n -=1\n",
    "        \n",
    "        G.numbermon.observe(Arrival.n)\n",
    "        \n",
    "        if (Arrival.n>0):\n",
    "            G.busymon.observe(1)\n",
    "        else:\n",
    "            G.busymon.observe(0)\n",
    "            \n",
    "        delay = now()-arrivetime\n",
    "        G.delaymon.observe(delay)"
   ]
  },
  {
   "cell_type": "code",
   "execution_count": 17,
   "metadata": {},
   "outputs": [],
   "source": [
    "class G:\n",
    "    server = 'dummy'\n",
    "    delaymon = 'Monitor' # W\n",
    "    numbermon = \"Monitor\" # L\n",
    "    busymon = 'Monitor' # B"
   ]
  },
  {
   "cell_type": "code",
   "execution_count": 18,
   "metadata": {},
   "outputs": [],
   "source": [
    "def model(N, maxtime, rvseed,K):\n",
    "    # setup\n",
    "    initialize()\n",
    "    random.seed(rvseed)\n",
    "    G.server = Resource(K)\n",
    "    G.delaymon = Monitor()\n",
    "    G.numbermon = Monitor()\n",
    "    G.busymon = Monitor()\n",
    "\n",
    "    Arrival.n = 0\n",
    "    \n",
    "    # simulate\n",
    "    s = Source('Source')\n",
    "    activate(s, s.run(N))\n",
    "    simulate(until=maxtime)\n",
    "\n",
    "    # gather performance measures\n",
    "    W = G.delaymon.mean()\n",
    "    L = G.numbermon.timeAverage()\n",
    "    B = G.busymon.timeAverage()\n",
    "    \n",
    "    return W, L, B"
   ]
  },
  {
   "cell_type": "markdown",
   "metadata": {},
   "source": [
    "The LAB Cafe is open from 7.30am to 3pm a total of 7.5 hours per day which is equivalent to 27000 seconds which would be the maxtime of each simulation."
   ]
  },
  {
   "cell_type": "code",
   "execution_count": 23,
   "metadata": {},
   "outputs": [
    {
     "name": "stdout",
     "output_type": "stream",
     "text": [
      "=================\n",
      "When K= 3\n",
      "    Estimate of W: 143.28751362199432\n",
      "    Conf int of W: (140.62749857595333, 145.94752866803532)\n",
      "    Estimate of L: 1.6283817237073634\n",
      "    Conf int of L: (1.5753783867711864, 1.6813850606435405)\n",
      "    Estimate of B: 0.7140026917524969\n",
      "    Conf int of B: (0.7037947894617138, 0.7242105940432799)\n",
      "    Estimate of LambdaEffective: 0.011347266899941985\n",
      "    Conf int of LambdaEffective: (0.011098053844956974, 0.011596479954926997)\n"
     ]
    }
   ],
   "source": [
    "## Experiment ----------------\n",
    "\n",
    "\n",
    "for Kap in [3]:\n",
    "    allW = []\n",
    "    allL = []\n",
    "    allB = []\n",
    "    allLambdaEffective = []\n",
    "\n",
    "    for k in range(50):\n",
    "        seed = 123*k\n",
    "        result = model(N=10000, maxtime=27000, rvseed=seed, K=Kap)\n",
    "        allW.append(result[0])\n",
    "        allL.append(result[1])\n",
    "        allB.append(result[2])\n",
    "        allLambdaEffective.append(result[1]/result[0])\n",
    "\n",
    "\n",
    "    print(\"=================\")\n",
    "    print(\"When K=\",Kap)\n",
    "    print(\"    Estimate of W:\", np.mean(allW))\n",
    "    print(\"    Conf int of W:\", conf(allW))\n",
    "    print(\"    Estimate of L:\", np.mean(allL))\n",
    "    print(\"    Conf int of L:\", conf(allL))\n",
    "    print(\"    Estimate of B:\", np.mean(allB))\n",
    "    print(\"    Conf int of B:\", conf(allB))\n",
    "    print(\"    Estimate of LambdaEffective:\", np.mean(allLambdaEffective))\n",
    "    print(\"    Conf int of LambdaEffective:\", conf(allLambdaEffective))"
   ]
  }
 ],
 "metadata": {
  "interpreter": {
   "hash": "6b995c587bfca392f6a8664946034fced53f03b903d006503e000a6b9a9b0eaa"
  },
  "kernelspec": {
   "display_name": "Python 3.8.8 ('base')",
   "language": "python",
   "name": "python3"
  },
  "language_info": {
   "codemirror_mode": {
    "name": "ipython",
    "version": 3
   },
   "file_extension": ".py",
   "mimetype": "text/x-python",
   "name": "python",
   "nbconvert_exporter": "python",
   "pygments_lexer": "ipython3",
   "version": "3.8.8"
  }
 },
 "nbformat": 4,
 "nbformat_minor": 4
}
