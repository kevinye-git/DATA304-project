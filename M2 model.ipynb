{
 "cells": [
  {
   "cell_type": "code",
   "execution_count": 170,
   "metadata": {},
   "outputs": [],
   "source": [
    "from SimPy.Simulation import *\n",
    "import random\n",
    "import numpy as np\n",
    "import math\n",
    "import read_data as rd\n",
    "import scipy\n",
    "import scipy.stats as st"
   ]
  },
  {
   "cell_type": "code",
   "execution_count": 171,
   "metadata": {},
   "outputs": [],
   "source": [
    "def conf(L):\n",
    "    \"\"\"confidence interval\"\"\"\n",
    "    lower = np.mean(L) - 1.96*np.std(L)/math.sqrt(len(L))\n",
    "    upper = np.mean(L) + 1.96*np.std(L)/math.sqrt(len(L))\n",
    "    return lower, upper"
   ]
  },
  {
   "cell_type": "code",
   "execution_count": 172,
   "metadata": {},
   "outputs": [],
   "source": [
    "filenames = [\"/Users/viviandong/Desktop/COMP312/DATA304-project-main/Data Collection/KevinYeData.txt\",\n",
    "             \"/Users/viviandong/Desktop/COMP312/DATA304-project-main/Data Collection/PatrickQData.txt\",\n",
    "             \"/Users/viviandong/Desktop/COMP312/DATA304-project-main/Data Collection/TamaHoareData.txt\",\n",
    "             \"/Users/viviandong/Desktop/COMP312/DATA304-project-main/Data Collection/dataviviandong.txt\"]\n",
    "results = rd.ReadData(filenames=filenames)\n",
    "AllArrivals = results[0]\n",
    "AllServices = results[1]"
   ]
  },
  {
   "cell_type": "code",
   "execution_count": 173,
   "metadata": {},
   "outputs": [],
   "source": [
    "#From our analysis, it suggests that Pearson3 is the best in approximating ‘inter-arrival time’ Data.\n",
    "# Pearson3 Distribution Parameters\n",
    "skew,loc,scale = st.pearson3.fit(AllArrivals)"
   ]
  },
  {
   "cell_type": "code",
   "execution_count": 174,
   "metadata": {},
   "outputs": [],
   "source": [
    "# For our 'service times' data, it suggests that beta distribution is the best fit for the data.\n",
    "# Beta Distribution Parameters\n",
    "beta_a, beta_b,loc,scale = st.beta.fit(AllServices)"
   ]
  },
  {
   "cell_type": "code",
   "execution_count": 175,
   "metadata": {},
   "outputs": [],
   "source": [
    "class Source(Process):\n",
    "    \"\"\"generate random arrivals\"\"\"\n",
    "    def run(self, N):\n",
    "        for i in range(N):\n",
    "            a = Arrival(str(i))\n",
    "            activate(a, a.run())\n",
    "            t = abs(st.pearson3.rvs(skew))\n",
    "            yield hold, self, t"
   ]
  },
  {
   "cell_type": "code",
   "execution_count": 176,
   "metadata": {},
   "outputs": [],
   "source": [
    "class Arrival(Process):\n",
    "    \"\"\"an arrival\"\"\"\n",
    "    n=0 \n",
    "\n",
    "    def run(self):\n",
    "        Arrival.n +=1\n",
    "        \n",
    "        arrivetime = now()\n",
    "        \n",
    "        G.numbermon.observe(Arrival.n)\n",
    "        \n",
    "        if (Arrival.n>0):\n",
    "            G.busymon.observe(1)\n",
    "        else:\n",
    "            G.busymon.observe(0)\n",
    "            \n",
    "        yield request, self, G.server\n",
    "        yield hold, self, np.random.beta(beta_a, beta_b)\n",
    "        yield release, self, G.server\n",
    "        \n",
    "        Arrival.n -=1\n",
    "        \n",
    "        G.numbermon.observe(Arrival.n)\n",
    "        \n",
    "        if (Arrival.n>0):\n",
    "            G.busymon.observe(1)\n",
    "        else:\n",
    "            G.busymon.observe(0)\n",
    "            \n",
    "        delay = now()-arrivetime\n",
    "        G.delaymon.observe(delay)"
   ]
  },
  {
   "cell_type": "code",
   "execution_count": 177,
   "metadata": {},
   "outputs": [],
   "source": [
    "class G:\n",
    "    server = 'dummy'\n",
    "    delaymon = 'Monitor' # W\n",
    "    numbermon = \"Monitor\" # L\n",
    "    busymon = 'Monitor' # B"
   ]
  },
  {
   "cell_type": "code",
   "execution_count": 178,
   "metadata": {},
   "outputs": [],
   "source": [
    "def model(N, maxtime, rvseed,K):\n",
    "    # setup\n",
    "    initialize()\n",
    "    random.seed(rvseed)\n",
    "    G.server = Resource(K)\n",
    "    G.delaymon = Monitor()\n",
    "    G.numbermon = Monitor()\n",
    "    G.busymon = Monitor()\n",
    "\n",
    "    Arrival.n = 0\n",
    "    \n",
    "    # simulate\n",
    "    s = Source('Source')\n",
    "    activate(s, s.run(N))\n",
    "    simulate(until=maxtime)\n",
    "\n",
    "    # gather performance measures\n",
    "    W = G.delaymon.mean()\n",
    "    L = G.numbermon.timeAverage()\n",
    "    B = G.busymon.timeAverage()\n",
    "    \n",
    "    return W, L, B"
   ]
  },
  {
   "cell_type": "markdown",
   "metadata": {},
   "source": [
    "The LAB Cafe is open from 7.30am to 3pm a total of 7.5 hours per day which is equivalent to 27000 seconds which would be the maxtime of each simulation."
   ]
  },
  {
   "cell_type": "code",
   "execution_count": 183,
   "metadata": {},
   "outputs": [
    {
     "name": "stdout",
     "output_type": "stream",
     "text": [
      "=================\n",
      "When K= 1\n",
      "    Estimate of W: 0.09080309307981936\n",
      "    Conf int of W: (0.09061532826307689, 0.09099085789656183)\n",
      "    Estimate of L: 0.12795803870205108\n",
      "    Conf int of L: (0.1275736949645114, 0.12834238243959076)\n",
      "    Estimate of B: 0.1214983155757442\n",
      "    Conf int of B: (0.12114326143780896, 0.12185336971367944)\n",
      "    Estimate of LambdaEffective: 1.4092118802993747\n",
      "    Conf int of LambdaEffective: (1.4051998449365513, 1.4132239156621982)\n",
      "=================\n",
      "When K= 2\n",
      "    Estimate of W: 0.08653149948885601\n",
      "    Conf int of W: (0.08633931141002504, 0.08672368756768697)\n",
      "    Estimate of L: 0.12175499491676887\n",
      "    Conf int of L: (0.12134014793873144, 0.12216984189480631)\n",
      "    Estimate of B: 0.11788256006260335\n",
      "    Conf int of B: (0.1174816575124894, 0.1182834626127173)\n",
      "    Estimate of LambdaEffective: 1.4070589482940934\n",
      "    Conf int of LambdaEffective: (1.403466973434821, 1.4106509231533657)\n",
      "=================\n",
      "When K= 3\n",
      "    Estimate of W: 0.08627299571992532\n",
      "    Conf int of W: (0.0861189071077185, 0.08642708433213214)\n",
      "    Estimate of L: 0.12166873159428589\n",
      "    Conf int of L: (0.12127839549047108, 0.1220590676981007)\n",
      "    Estimate of B: 0.11777120669313033\n",
      "    Conf int of B: (0.11739861327629693, 0.11814380010996374)\n",
      "    Estimate of LambdaEffective: 1.4102674316630504\n",
      "    Conf int of LambdaEffective: (1.4067568111833926, 1.4137780521427081)\n"
     ]
    }
   ],
   "source": [
    "## Experiment ----------------\n",
    "\n",
    "\n",
    "for Kap in [1,2,3]:\n",
    "    allW = []\n",
    "    allL = []\n",
    "    allB = []\n",
    "    allLambdaEffective = []\n",
    "\n",
    "    for k in range(50):\n",
    "        seed = 123*k\n",
    "        result = model(N=10000, maxtime=27000, rvseed=seed, K=Kap)\n",
    "        allW.append(result[0])\n",
    "        allL.append(result[1])\n",
    "        allB.append(result[2])\n",
    "        allLambdaEffective.append(result[1]/result[0])\n",
    "\n",
    "\n",
    "    print(\"=================\")\n",
    "    print(\"When K=\",Kap)\n",
    "    print(\"    Estimate of W:\", np.mean(allW))\n",
    "    print(\"    Conf int of W:\", conf(allW))\n",
    "    print(\"    Estimate of L:\", np.mean(allL))\n",
    "    print(\"    Conf int of L:\", conf(allL))\n",
    "    print(\"    Estimate of B:\", np.mean(allB))\n",
    "    print(\"    Conf int of B:\", conf(allB))\n",
    "    print(\"    Estimate of LambdaEffective:\", np.mean(allLambdaEffective))\n",
    "    print(\"    Conf int of LambdaEffective:\", conf(allLambdaEffective))"
   ]
  }
 ],
 "metadata": {
  "kernelspec": {
   "display_name": "Python 3",
   "language": "python",
   "name": "python3"
  },
  "language_info": {
   "codemirror_mode": {
    "name": "ipython",
    "version": 3
   },
   "file_extension": ".py",
   "mimetype": "text/x-python",
   "name": "python",
   "nbconvert_exporter": "python",
   "pygments_lexer": "ipython3",
   "version": "3.7.6"
  }
 },
 "nbformat": 4,
 "nbformat_minor": 4
}
