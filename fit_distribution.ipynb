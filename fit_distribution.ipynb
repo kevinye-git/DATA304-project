{
 "cells": [
  {
   "cell_type": "code",
   "execution_count": 20,
   "metadata": {},
   "outputs": [],
   "source": [
    "import re\n",
    "import pandas as pd\n",
    "import numpy as np\n",
    "# from mlutils import dataset, connector\n",
    "import scipy.stats\n",
    "from scipy.stats import *\n",
    "import scipy.stats as stats\n",
    "\n",
    "from sklearn.preprocessing import StandardScaler\n",
    "import math\n",
    "import matplotlib.pyplot as plt\n",
    "import warnings\n",
    "import statsmodels.api as sm \n",
    "import seaborn as sns\n",
    "import pylab as py \n",
    "warnings.filterwarnings('ignore')\n",
    "%matplotlib inline"
   ]
  },
  {
   "cell_type": "code",
   "execution_count": 21,
   "metadata": {},
   "outputs": [],
   "source": [
    "def standarise(y,pct,pct_lower):\n",
    "    sc = StandardScaler() \n",
    "    y.sort()\n",
    "    len_y = len(y)\n",
    "    y = y[int(pct_lower * len_y):int(len_y * pct)]\n",
    "    len_y = len(y)\n",
    "    yy=([[x] for x in y])\n",
    "    sc.fit(yy)\n",
    "    y_std =sc.transform(yy)\n",
    "    y_std = y_std.flatten()\n",
    "    return y_std,len_y,y"
   ]
  },
  {
   "cell_type": "code",
   "execution_count": 35,
   "metadata": {},
   "outputs": [],
   "source": [
    "def fit_distribution(column,pct,pct_lower):\n",
    "    # Set up list of candidate distributions to use\n",
    "    # See https://docs.scipy.org/doc/scipy/reference/stats.html for more\n",
    "    y_std,size,y_org = standarise(column,pct,pct_lower)\n",
    "    dist_names = ['weibull_min','norm','weibull_max','beta',\n",
    "                 'invgauss','uniform','gamma','expon', 'lognorm','pearson3','triang','erlang']\n",
    "\n",
    "    chi_square_statistics = []\n",
    "    # 11 bins\n",
    "    percentile_bins = np.linspace(0,100,11)\n",
    "    percentile_cutoffs = np.percentile(y_std, percentile_bins)\n",
    "    observed_frequency, bins = (np.histogram(y_std, bins=percentile_cutoffs))\n",
    "    cum_observed_frequency = np.cumsum(observed_frequency)\n",
    "\n",
    "    # Loop through candidate distributions\n",
    "\n",
    "    for distribution in dist_names:\n",
    "        # Set up distribution and get fitted distribution parameters\n",
    "        dist = getattr(scipy.stats, distribution)\n",
    "        param = dist.fit(y_std)\n",
    "        print(\"{}\\n{}\\n\".format(dist, param))\n",
    "      \n",
    "\n",
    "        # Get expected counts in percentile bins\n",
    "        # cdf of fitted sistrinution across bins\n",
    "        cdf_fitted = dist.cdf(percentile_cutoffs, *param)\n",
    "        expected_frequency = []\n",
    "        for bin in range(len(percentile_bins)-1):\n",
    "            expected_cdf_area = cdf_fitted[bin+1] - cdf_fitted[bin]\n",
    "            expected_frequency.append(expected_cdf_area)\n",
    "\n",
    "        # Chi-square Statistics\n",
    "        expected_frequency = np.array(expected_frequency) * size\n",
    "        cum_expected_frequency = np.cumsum(expected_frequency)\n",
    "        ss = round(sum (((cum_expected_frequency - cum_observed_frequency) ** 2) / cum_observed_frequency),6)\n",
    "        chi_square_statistics.append(ss)\n",
    "\n",
    "\n",
    "    #Sort by minimum ch-square statistics\n",
    "    results = pd.DataFrame()\n",
    "    results['Distribution'] = dist_names\n",
    "    results['chi_square'] = chi_square_statistics\n",
    "    results.sort_values(['chi_square'], inplace=True)\n",
    "\n",
    "\n",
    "    print('\\nDistributions listed by Betterment of fit:')\n",
    "    print('............................................')\n",
    "    print(results)"
   ]
  },
  {
   "cell_type": "markdown",
   "metadata": {},
   "source": [
    "## Service times"
   ]
  },
  {
   "cell_type": "code",
   "execution_count": 38,
   "metadata": {},
   "outputs": [],
   "source": [
    "import read_data as rd"
   ]
  },
  {
   "cell_type": "code",
   "execution_count": 39,
   "metadata": {},
   "outputs": [],
   "source": [
    "filenames = [\"KevinYeData.txt\",\n",
    "             \"PatrickQData.txt\",\n",
    "             \"TamaHoareData.txt\",\n",
    "             \"dataviviandong.txt\"]\n",
    "results = rd.ReadData(filenames=filenames)\n",
    "AllArrivals = results[0]\n",
    "AllServices = results[1]"
   ]
  },
  {
   "cell_type": "code",
   "execution_count": 40,
   "metadata": {},
   "outputs": [
    {
     "name": "stdout",
     "output_type": "stream",
     "text": [
      "<scipy.stats._continuous_distns.weibull_min_gen object at 0x000001F63F8CF190>\n",
      "(0.7015384049768638, -0.9894365309023049, 1.2006676444778561)\n",
      "\n",
      "<scipy.stats._continuous_distns.norm_gen object at 0x000001F63F899280>\n",
      "(0.0, 1.0)\n",
      "\n",
      "<scipy.stats._continuous_distns.weibull_max_gen object at 0x000001F63F8CF460>\n",
      "(0.7019179793807708, 3.26754168282175, 1.2352709611338757)\n",
      "\n",
      "<scipy.stats._continuous_distns.beta_gen object at 0x000001F63F899E50>\n",
      "(0.5869141736933967, 2.0230692974358018, -0.9894365309023049, 5.611707278987666)\n",
      "\n",
      "<scipy.stats._continuous_distns.invgauss_gen object at 0x000001F63F8EF460>\n",
      "(1.3774125862615234, -1.133748597072893, 0.8230934376760495)\n",
      "\n",
      "<scipy.stats._continuous_distns.uniform_gen object at 0x000001F63F935DC0>\n",
      "(-0.9894365309023048, 4.256978213724054)\n",
      "\n",
      "<scipy.stats._continuous_distns.gamma_gen object at 0x000001F63F8D91F0>\n",
      "(0.8667586476420364, -0.989436530902305, 0.8160179858473148)\n",
      "\n",
      "<scipy.stats._continuous_distns.expon_gen object at 0x000001F63F8B4E80>\n",
      "(-0.9894365309023048, 0.9894365309023048)\n",
      "\n",
      "<scipy.stats._continuous_distns.lognorm_gen object at 0x000001F63F907A90>\n",
      "(1.2285098631304354, -1.040346141653061, 0.5785087400178923)\n",
      "\n",
      "<scipy.stats._continuous_distns.pearson3_gen object at 0x000001F63F920910>\n",
      "(2.416641101443037, -0.007126039833642914, 1.1869459535476108)\n",
      "\n",
      "<scipy.stats._continuous_distns.triang_gen object at 0x000001F63F935190>\n",
      "(1.2422294892673428e-07, -0.9894371622132272, 4.384475250138744)\n",
      "\n",
      "<scipy.stats._continuous_distns.erlang_gen object at 0x000001F63F8D9520>\n",
      "(0.34939810853283576, -0.9894365309023049, 1.0870659237131632)\n",
      "\n",
      "\n",
      "Distributions listed by Betterment of fit:\n",
      "............................................\n",
      "   Distribution   chi_square\n",
      "9      pearson3     9.155252\n",
      "0   weibull_min    13.245287\n",
      "3          beta    21.708357\n",
      "8       lognorm    25.596288\n",
      "4      invgauss    29.389634\n",
      "7         expon    29.515278\n",
      "6         gamma    48.359331\n",
      "10       triang   209.930441\n",
      "1          norm   332.531278\n",
      "5       uniform   510.690318\n",
      "11       erlang   672.400334\n",
      "2   weibull_max  1137.915014\n"
     ]
    }
   ],
   "source": [
    "fit_distribution(AllArrivals,0.99,0.01)"
   ]
  },
  {
   "cell_type": "code",
   "execution_count": 41,
   "metadata": {},
   "outputs": [
    {
     "name": "stdout",
     "output_type": "stream",
     "text": [
      "<scipy.stats._continuous_distns.weibull_min_gen object at 0x000001F63F8CF190>\n",
      "(1.352589278269006, -1.3447015820584827, 1.467232807050587)\n",
      "\n",
      "<scipy.stats._continuous_distns.norm_gen object at 0x000001F63F899280>\n",
      "(2.241459734258991e-16, 1.0)\n",
      "\n",
      "<scipy.stats._continuous_distns.weibull_max_gen object at 0x000001F63F8CF460>\n",
      "(0.721662688150412, 3.1455922485465155, 1.2433305622072686)\n",
      "\n",
      "<scipy.stats._continuous_distns.beta_gen object at 0x000001F63F899E50>\n",
      "(1.394142397577749, 7.296709096440065, -1.3449459239135244, 8.392743503955604)\n",
      "\n",
      "<scipy.stats._continuous_distns.invgauss_gen object at 0x000001F63F8EF460>\n",
      "(0.4273306502409351, -1.68320695484702, 3.9388870495280726)\n",
      "\n",
      "<scipy.stats._continuous_distns.uniform_gen object at 0x000001F63F935DC0>\n",
      "(-1.340184443719104, 4.485776692265619)\n",
      "\n",
      "<scipy.stats._continuous_distns.gamma_gen object at 0x000001F63F8D91F0>\n",
      "(1.6604935980397486, -1.3524386238116077, 0.8144683757801132)\n",
      "\n",
      "<scipy.stats._continuous_distns.expon_gen object at 0x000001F63F8B4E80>\n",
      "(-1.340184443719104, 1.3401844437191042)\n",
      "\n",
      "<scipy.stats._continuous_distns.lognorm_gen object at 0x000001F63F907A90>\n",
      "(0.6415966921638407, -1.6127636448548777, 1.3280431345013661)\n",
      "\n",
      "<scipy.stats._continuous_distns.pearson3_gen object at 0x000001F63F920910>\n",
      "(1.5520636624046062, 7.17308070388293e-17, 1.0495415246778275)\n",
      "\n",
      "<scipy.stats._continuous_distns.triang_gen object at 0x000001F63F935190>\n",
      "(0.03711977537648216, -1.3648084498774897, 4.646597079496283)\n",
      "\n",
      "<scipy.stats._continuous_distns.erlang_gen object at 0x000001F63F8D9520>\n",
      "(1.6605072541820394, -1.352434083723125, 0.814480138474973)\n",
      "\n",
      "\n",
      "Distributions listed by Betterment of fit:\n",
      "............................................\n",
      "   Distribution   chi_square\n",
      "3          beta     1.582931\n",
      "0   weibull_min     2.017339\n",
      "9      pearson3     3.274222\n",
      "6         gamma     3.274604\n",
      "11       erlang     3.274684\n",
      "4      invgauss     8.160098\n",
      "8       lognorm     9.157703\n",
      "10       triang    34.097195\n",
      "7         expon    47.940959\n",
      "1          norm   122.974988\n",
      "5       uniform   282.854169\n",
      "2   weibull_max  1071.813702\n"
     ]
    }
   ],
   "source": [
    "fit_distribution(AllServices,0.99,0.01)"
   ]
  },
  {
   "cell_type": "markdown",
   "metadata": {},
   "source": [
    "## Fitting different Distributions and checking Goodness of fit based on Chi-square Statistics.\n",
    "\n",
    "Based on the Chi-sqaure Statistics, it suggests that Pearson3 is the best in approximating ‘inter-arrival time’ Data.\n",
    "\n",
    "We can also see that beta distribution is the best fit for service times."
   ]
  }
 ],
 "metadata": {
  "kernelspec": {
   "display_name": "Python 3",
   "language": "python",
   "name": "python3"
  },
  "language_info": {
   "codemirror_mode": {
    "name": "ipython",
    "version": 3
   },
   "file_extension": ".py",
   "mimetype": "text/x-python",
   "name": "python",
   "nbconvert_exporter": "python",
   "pygments_lexer": "ipython3",
   "version": "3.8.8"
  }
 },
 "nbformat": 4,
 "nbformat_minor": 4
}
