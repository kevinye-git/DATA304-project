{
 "cells": [
  {
   "cell_type": "code",
   "execution_count": 34,
   "id": "db602681",
   "metadata": {},
   "outputs": [],
   "source": [
    "from SimPy.Simulation import *\n",
    "import random\n",
    "import numpy as np\n",
    "import math\n",
    "import read_data as rd\n",
    "import draw_emp as de"
   ]
  },
  {
   "cell_type": "code",
   "execution_count": 35,
   "id": "219cf03c",
   "metadata": {},
   "outputs": [],
   "source": [
    "def conf(L):\n",
    "    \"\"\"confidence interval\"\"\"\n",
    "    lower = np.mean(L) - 1.96*np.std(L)/math.sqrt(len(L))\n",
    "    upper = np.mean(L) + 1.96*np.std(L)/math.sqrt(len(L))\n",
    "    return lower, upper"
   ]
  },
  {
   "cell_type": "code",
   "execution_count": 36,
   "id": "95a99983",
   "metadata": {},
   "outputs": [],
   "source": [
    "class Source(Process):\n",
    "    \"\"\"generate random arrivals\"\"\"\n",
    "    def run(self, N):\n",
    "        for i in range(N):\n",
    "            a = Arrival(str(i))\n",
    "            activate(a, a.run())\n",
    "            t = de.draw_empirical(AllArrivals,random.random())\n",
    "            yield hold, self, t"
   ]
  },
  {
   "cell_type": "code",
   "execution_count": 37,
   "id": "b62fc091",
   "metadata": {},
   "outputs": [],
   "source": [
    "class Arrival(Process):\n",
    "    \"\"\"an arrival\"\"\"\n",
    "    n=0 #class variable, number in system\n",
    "\n",
    "    def run(self):\n",
    "        Arrival.n +=1\n",
    "        arrivetime = now()\n",
    "        G.numbermon.observe(Arrival.n)\n",
    "        yield request, self, G.server\n",
    "        yield hold, self, de.draw_empirical(AllServices,random.random())\n",
    "        yield release, self, G.server\n",
    "        Arrival.n -=1\n",
    "        G.numbermon.observe(Arrival.n)\n",
    "        delay = now()-arrivetime\n",
    "        G.delaymon.observe(delay)\n"
   ]
  },
  {
   "cell_type": "code",
   "execution_count": 38,
   "id": "866a5af5",
   "metadata": {},
   "outputs": [],
   "source": [
    "class G:\n",
    "    server = 'dummy'\n",
    "    delaymon = 'Monitor' #observe time spent in system\n",
    "    numbermon = \"Monitor\" #observe number customer in system"
   ]
  },
  {
   "cell_type": "code",
   "execution_count": 46,
   "id": "633b21bd",
   "metadata": {},
   "outputs": [],
   "source": [
    "def model(N, maxtime, rvseed,K):\n",
    "    # setup\n",
    "    initialize()\n",
    "    random.seed(rvseed)\n",
    "    G.server = Resource(K)\n",
    "    G.delaymon = Monitor()\n",
    "    G.numbermon = Monitor()\n",
    "\n",
    "\n",
    "    Arrival.n = 0\n",
    "    # simulate\n",
    "    s = Source('Source')\n",
    "    activate(s, s.run(N))\n",
    "    simulate(until=maxtime)\n",
    "\n",
    "    # gather performance measures\n",
    "    W = G.delaymon.mean()\n",
    "    L = G.numbermon.timeAverage()\n",
    "    return W, L"
   ]
  },
  {
   "cell_type": "code",
   "execution_count": 47,
   "id": "62f29c9d",
   "metadata": {},
   "outputs": [],
   "source": [
    "filenames = [\"Data Collection\\KevinYeData.txt\",\n",
    "             \"Data Collection\\PatrickQData.txt\",\n",
    "             \"Data Collection\\TamaHoareData.txt\",\n",
    "             \"Data Collection\\dataviviandong.txt\"]\n",
    "results = rd.ReadData(filenames=filenames)\n",
    "AllArrivals = results[0]\n",
    "AllServices = results[1]"
   ]
  },
  {
   "cell_type": "markdown",
   "id": "5f720227",
   "metadata": {},
   "source": [
    "The LAB Cafe is open from 7.30am to 3pm a total of 7.5 hours per day which is equivalent to 27000 seconds which would be the maxtime of each simulation."
   ]
  },
  {
   "cell_type": "code",
   "execution_count": 49,
   "id": "c99de1a8",
   "metadata": {},
   "outputs": [
    {
     "name": "stdout",
     "output_type": "stream",
     "text": [
      "=================\n",
      "When K= 3\n",
      "    Estimate of W: 127.14403384042575\n",
      "    Conf int of W: (125.07850823449746, 129.20955944635404)\n",
      "    Estimate of L: 1.0853339772074488\n",
      "    Conf int of L: (1.053049533747219, 1.1176184206676787)\n"
     ]
    }
   ],
   "source": [
    "## Experiment ----------------\n",
    "\n",
    "for Kap in [3]:\n",
    "    allW = []\n",
    "    allL = []\n",
    "    for k in range(50):\n",
    "        seed = 123*k\n",
    "        result = model(N=10000, maxtime=27000, rvseed=seed,K=Kap)\n",
    "        allW.append(result[0])\n",
    "        allL.append(result[1])\n",
    "\n",
    "    print(\"=================\")\n",
    "    print(\"When K=\",Kap)\n",
    "    print(\"    Estimate of W:\", np.mean(allW))\n",
    "    print(\"    Conf int of W:\", conf(allW))\n",
    "    print(\"    Estimate of L:\", np.mean(allL))\n",
    "    print(\"    Conf int of L:\", conf(allL))"
   ]
  }
 ],
 "metadata": {
  "interpreter": {
   "hash": "6b995c587bfca392f6a8664946034fced53f03b903d006503e000a6b9a9b0eaa"
  },
  "kernelspec": {
   "display_name": "Python 3.8.8 ('base')",
   "language": "python",
   "name": "python3"
  },
  "language_info": {
   "codemirror_mode": {
    "name": "ipython",
    "version": 3
   },
   "file_extension": ".py",
   "mimetype": "text/x-python",
   "name": "python",
   "nbconvert_exporter": "python",
   "pygments_lexer": "ipython3",
   "version": "3.8.8"
  }
 },
 "nbformat": 4,
 "nbformat_minor": 5
}
