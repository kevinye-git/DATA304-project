{
 "cells": [
  {
   "cell_type": "markdown",
   "id": "ac59d4e9",
   "metadata": {},
   "source": [
    "**Imports**"
   ]
  },
  {
   "cell_type": "code",
   "execution_count": 90,
   "id": "185ca694",
   "metadata": {},
   "outputs": [],
   "source": [
    "import matplotlib.pyplot as plt\n",
    "import numpy as np\n",
    "import scipy\n",
    "import scipy.stats as st\n",
    "import read_data as rd"
   ]
  },
  {
   "cell_type": "markdown",
   "id": "66912312",
   "metadata": {},
   "source": [
    "**Read Data**"
   ]
  },
  {
   "cell_type": "code",
   "execution_count": 97,
   "id": "4d3f8863",
   "metadata": {},
   "outputs": [],
   "source": [
    "import read_data as rd\n",
    "filenames = [\"KevinYeData.txt\",\n",
    "             \"PatrickQData.txt\",\n",
    "             \"TamaHoareData.txt\",\n",
    "             \"dataviviandong.txt\"]\n",
    "results = rd.ReadData(filenames=filenames)\n",
    "AllArrivals = results[0]\n",
    "AllServices = results[1]"
   ]
  },
  {
   "cell_type": "markdown",
   "id": "4b07142d",
   "metadata": {},
   "source": [
    "**Methods**"
   ]
  },
  {
   "cell_type": "code",
   "execution_count": 98,
   "id": "cb6cc048",
   "metadata": {},
   "outputs": [],
   "source": [
    "#DETERMINING BINS FOR HISTOGRAM\n",
    "def bin(m):\n",
    "    q25, q75 = np.percentile(m, [25, 75])\n",
    "    bin_width = 2 * (q75 - q25) * len(m) ** (-1/3)\n",
    "    bins = round((max(m) - min(m)) / bin_width)\n",
    "    return bins"
   ]
  },
  {
   "cell_type": "code",
   "execution_count": 138,
   "id": "2046eb37",
   "metadata": {},
   "outputs": [],
   "source": [
    "#Pass the data to this method to plot it\n",
    "def Histogram(data):\n",
    "    #Plot\n",
    "    plt.hist(data, density = True, bins = bin(data), label = \"Data\", rwidth = 0.9)\n",
    "    mn, mx = plt.xlim()\n",
    "    plt.xlim(mn, mx)\n",
    "    "
   ]
  },
  {
   "cell_type": "markdown",
   "id": "765b3225",
   "metadata": {},
   "source": [
    "## Results"
   ]
  },
  {
   "cell_type": "markdown",
   "id": "78bd832c",
   "metadata": {},
   "source": [
    "**Data and Frequencies**"
   ]
  },
  {
   "cell_type": "code",
   "execution_count": 139,
   "id": "11c28d9c",
   "metadata": {
    "scrolled": true
   },
   "outputs": [
    {
     "name": "stdout",
     "output_type": "stream",
     "text": [
      "None\n"
     ]
    },
    {
     "data": {
      "image/png": "[encoded data removed]",
      "text/plain": [
       "<Figure size 432x288 with 1 Axes>"
      ]
     },
     "metadata": {
      "needs_background": "light"
     },
     "output_type": "display_data"
    }
   ],
   "source": [
    "title = \"Inter-Arrival Times\"\n",
    "plotArrival = Histogram(AllArrivals)\n",
    "\n",
    "plt.ylabel(\"Frequency\")\n",
    "plt.xlabel(\"Data\")\n",
    "plt.title(title);\n",
    "\n",
    "print(plotArrival)"
   ]
  },
  {
   "cell_type": "code",
   "execution_count": 140,
   "id": "6ce90bd8",
   "metadata": {
    "scrolled": false
   },
   "outputs": [
    {
     "name": "stdout",
     "output_type": "stream",
     "text": [
      "None\n"
     ]
    },
    {
     "data": {
      "image/png": "[encoded data removed]",
      "text/plain": [
       "<Figure size 432x288 with 1 Axes>"
      ]
     },
     "metadata": {
      "needs_background": "light"
     },
     "output_type": "display_data"
    }
   ],
   "source": [
    "title = \"Service Times\"\n",
    "plotService = Histogram(AllServices)\n",
    "\n",
    "plt.ylabel(\"Frequency\")\n",
    "plt.xlabel(\"Data\")\n",
    "plt.title(title);\n",
    "\n",
    "print(plotService)"
   ]
  },
  {
   "cell_type": "markdown",
   "id": "4c8169aa",
   "metadata": {},
   "source": [
    "**With Betterment of fit**"
   ]
  },
  {
   "cell_type": "markdown",
   "id": "457a7f08",
   "metadata": {},
   "source": [
    "From our analysis, it suggests that Pearson3 is the best in approximating ‘inter-arrival time’ Data. This analysis is shown below:"
   ]
  },
  {
   "cell_type": "code",
   "execution_count": 167,
   "id": "97a5b9c9",
   "metadata": {},
   "outputs": [
    {
     "data": {
      "text/plain": [
       "[<matplotlib.lines.Line2D at 0x1bc93b74730>]"
      ]
     },
     "execution_count": 167,
     "metadata": {},
     "output_type": "execute_result"
    },
    {
     "data": {
      "image/png": "[encoded data removed]",
      "text/plain": [
       "<Figure size 432x288 with 1 Axes>"
      ]
     },
     "metadata": {
      "needs_background": "light"
     },
     "output_type": "display_data"
    }
   ],
   "source": [
    "##Inter-Arrivals\n",
    "#Plot Histogram\n",
    "title = \"Inter-Arrival Times\"\n",
    "plotArrival = Histogram(AllArrivals)\n",
    "\n",
    "\n",
    "#Plot Best Fit Distribution\n",
    "Arrmin, Arrmax = min(AllArrivals), max(AllArrivals)  \n",
    "\n",
    "lnspcArr = np.linspace(Arrmin, Arrmax, len(AllArrivals)) #For arrivals\n",
    "\n",
    "ap, bp, cp = st.pearson3.fit(AllArrivals)\n",
    "pdf_pearson = st.pearson3.pdf(lnspcArr, ap, bp, cp)  \n",
    "\n",
    "plt.title('Pearson 3 distribution')\n",
    "plt.plot(lnspcArr, pdf_pearson, 'r-')#,x,pdf,'b--')\n",
    "#plt.plot(AllArrivals, pdf_pearson, label=\"Pearson\")"
   ]
  },
  {
   "cell_type": "markdown",
   "id": "77a5838d",
   "metadata": {},
   "source": [
    "For our 'service times' data, it suggests that beta distribution is the best fit for the data. This analysis is shown below:"
   ]
  },
  {
   "cell_type": "code",
   "execution_count": 168,
   "id": "a277337a",
   "metadata": {},
   "outputs": [
    {
     "name": "stderr",
     "output_type": "stream",
     "text": [
      "C:\\Users\\64210\\anaconda3\\lib\\site-packages\\scipy\\stats\\_continuous_distns.py:621: RuntimeWarning: invalid value encountered in sqrt\n",
      "  sk = 2*(b-a)*np.sqrt(a + b + 1) / (a + b + 2) / np.sqrt(a*b)\n"
     ]
    },
    {
     "data": {
      "text/plain": [
       "[<matplotlib.lines.Line2D at 0x1bc93bfbe50>]"
      ]
     },
     "execution_count": 168,
     "metadata": {},
     "output_type": "execute_result"
    },
    {
     "data": {
      "image/png": "[encoded data removed]",
      "text/plain": [
       "<Figure size 432x288 with 1 Axes>"
      ]
     },
     "metadata": {
      "needs_background": "light"
     },
     "output_type": "display_data"
    }
   ],
   "source": [
    "#Service Times\n",
    "#plot Histogram\n",
    "title = \"Service Times\"\n",
    "plotService = Histogram(AllServices)\n",
    "\n",
    "\n",
    "#Plot Best Fit Distribution\n",
    "Sermin, Sermax = min(AllServices), max(AllServices)  \n",
    "\n",
    "lnspcSer = np.linspace(Sermin, Sermax, len(AllServices))#For Services\n",
    "\n",
    "ab,bb,cb,db = st.beta.fit(AllServices)  #Fitting\n",
    "pdf_beta = st.beta.pdf(lnspcSer, ab, bb,cb, db)  \n",
    "\n",
    "plt.title('Beta distribution')\n",
    "plt.plot(lnspcSer, pdf_beta, label=\"Beta\")"
   ]
  },
  {
   "cell_type": "code",
   "execution_count": null,
   "id": "2379abcd",
   "metadata": {},
   "outputs": [],
   "source": []
  }
 ],
 "metadata": {
  "kernelspec": {
   "display_name": "Python 3",
   "language": "python",
   "name": "python3"
  },
  "language_info": {
   "codemirror_mode": {
    "name": "ipython",
    "version": 3
   },
   "file_extension": ".py",
   "mimetype": "text/x-python",
   "name": "python",
   "nbconvert_exporter": "python",
   "pygments_lexer": "ipython3",
   "version": "3.8.8"
  }
 },
 "nbformat": 4,
 "nbformat_minor": 5
}
