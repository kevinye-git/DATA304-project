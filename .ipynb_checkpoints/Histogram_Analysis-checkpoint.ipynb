{
 "cells": [
  {
   "cell_type": "markdown",
   "id": "ac59d4e9",
   "metadata": {},
   "source": [
    "**Imports**"
   ]
  },
  {
   "cell_type": "code",
   "execution_count": 12,
   "id": "185ca694",
   "metadata": {},
   "outputs": [],
   "source": [
    "import matplotlib.pyplot as plt\n",
    "import numpy as np\n",
    "import scipy\n",
    "import scipy.stats as st\n",
    "import read_data as rd"
   ]
  },
  {
   "cell_type": "markdown",
   "id": "66912312",
   "metadata": {},
   "source": [
    "**Read Data**"
   ]
  },
  {
   "cell_type": "code",
   "execution_count": 13,
   "id": "4d3f8863",
   "metadata": {},
   "outputs": [],
   "source": [
    "import read_data as rd\n",
    "filenames = [\"KevinYeData.txt\",\n",
    "             \"PatrickQData.txt\",\n",
    "             \"TamaHoareData.txt\",\n",
    "             \"dataviviandong.txt\"]\n",
    "results = rd.ReadData(filenames=filenames)\n",
    "AllArrivals = results[0]\n",
    "AllServices = results[1]"
   ]
  },
  {
   "cell_type": "markdown",
   "id": "4b07142d",
   "metadata": {},
   "source": [
    "**Methods**"
   ]
  },
  {
   "cell_type": "code",
   "execution_count": 21,
   "id": "cb6cc048",
   "metadata": {},
   "outputs": [],
   "source": [
    "#DETERMINING BINS FOR HISTOGRAM\n",
    "def bin(data):\n",
    "    q25, q75 = np.percentile(data, [25, 75])\n",
    "    bin_width = 2 * (q75 - q25) * len(data) ** (-1/3)\n",
    "    bins = round((max(data) - min(data)) / bin_width)\n",
    "    return bins"
   ]
  },
  {
   "cell_type": "code",
   "execution_count": 20,
   "id": "3b3ff415",
   "metadata": {},
   "outputs": [
    {
     "ename": "SyntaxError",
     "evalue": "positional argument follows keyword argument (<ipython-input-20-a0c92850a607>, line 3)",
     "output_type": "error",
     "traceback": [
      "\u001b[1;36m  File \u001b[1;32m\"<ipython-input-20-a0c92850a607>\"\u001b[1;36m, line \u001b[1;32m3\u001b[0m\n\u001b[1;33m    plt.hist(data, density=True, bin, label=\"Data\")\u001b[0m\n\u001b[1;37m                                 ^\u001b[0m\n\u001b[1;31mSyntaxError\u001b[0m\u001b[1;31m:\u001b[0m positional argument follows keyword argument\n"
     ]
    }
   ],
   "source": [
    "#Pass the data through this method to plot it\n",
    "def histogram(data, bin=data):\n",
    "    plt.hist(data, density=True, bin, label=\"Data\")\n",
    "    mn, mx = plt.xlim()\n",
    "    plt.xlim(mn, mx)"
   ]
  },
  {
   "cell_type": "code",
   "execution_count": null,
   "id": "600ec374",
   "metadata": {},
   "outputs": [],
   "source": []
  },
  {
   "cell_type": "code",
   "execution_count": null,
   "id": "8298e4da",
   "metadata": {},
   "outputs": [],
   "source": []
  }
 ],
 "metadata": {
  "kernelspec": {
   "display_name": "Python 3",
   "language": "python",
   "name": "python3"
  },
  "language_info": {
   "codemirror_mode": {
    "name": "ipython",
    "version": 3
   },
   "file_extension": ".py",
   "mimetype": "text/x-python",
   "name": "python",
   "nbconvert_exporter": "python",
   "pygments_lexer": "ipython3",
   "version": "3.8.8"
  }
 },
 "nbformat": 4,
 "nbformat_minor": 5
}
