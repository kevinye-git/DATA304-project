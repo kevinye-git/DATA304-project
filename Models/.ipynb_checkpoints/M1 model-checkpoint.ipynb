{
 "cells": [
  {
   "cell_type": "code",
   "execution_count": 2,
   "id": "db602681",
   "metadata": {},
   "outputs": [
    {
     "ename": "ModuleNotFoundError",
     "evalue": "No module named 'read_data'",
     "output_type": "error",
     "traceback": [
      "\u001b[1;31m---------------------------------------------------------------------------\u001b[0m",
      "\u001b[1;31mModuleNotFoundError\u001b[0m                       Traceback (most recent call last)",
      "\u001b[1;32m<ipython-input-2-af34a7d8c57e>\u001b[0m in \u001b[0;36m<module>\u001b[1;34m\u001b[0m\n\u001b[0;32m      3\u001b[0m \u001b[1;32mimport\u001b[0m \u001b[0mnumpy\u001b[0m \u001b[1;32mas\u001b[0m \u001b[0mnp\u001b[0m\u001b[1;33m\u001b[0m\u001b[1;33m\u001b[0m\u001b[0m\n\u001b[0;32m      4\u001b[0m \u001b[1;32mimport\u001b[0m \u001b[0mmath\u001b[0m\u001b[1;33m\u001b[0m\u001b[1;33m\u001b[0m\u001b[0m\n\u001b[1;32m----> 5\u001b[1;33m \u001b[1;32mimport\u001b[0m \u001b[0mread_data\u001b[0m \u001b[1;32mas\u001b[0m \u001b[0mrd\u001b[0m\u001b[1;33m\u001b[0m\u001b[1;33m\u001b[0m\u001b[0m\n\u001b[0m",
      "\u001b[1;31mModuleNotFoundError\u001b[0m: No module named 'read_data'"
     ]
    }
   ],
   "source": [
    "from SimPy.Simulation import *\n",
    "import random\n",
    "import numpy as np\n",
    "import math\n",
    "import read_data as rd"
   ]
  },
  {
   "cell_type": "code",
   "execution_count": null,
   "id": "219cf03c",
   "metadata": {},
   "outputs": [],
   "source": [
    "def conf(L):\n",
    "    \"\"\"confidence interval\"\"\"\n",
    "    lower = np.mean(L) - 1.96*np.std(L)/math.sqrt(len(L))\n",
    "    upper = np.mean(L) + 1.96*np.std(L)/math.sqrt(len(L))\n",
    "    return lower, upper"
   ]
  },
  {
   "cell_type": "code",
   "execution_count": null,
   "id": "95a99983",
   "metadata": {},
   "outputs": [],
   "source": [
    "class Source(Process):\n",
    "    \"\"\"generate random arrivals\"\"\"\n",
    "    def run(self, N):\n",
    "        for i in range(N):\n",
    "            a = Arrival(str(i))\n",
    "            activate(a, a.run())\n",
    "            t = random.expovariate(ArrivalRate)\n",
    "            yield hold, self, t"
   ]
  },
  {
   "cell_type": "code",
   "execution_count": 3,
   "id": "b62fc091",
   "metadata": {},
   "outputs": [],
   "source": [
    "class Arrival(Process):\n",
    "    \"\"\"an arrival\"\"\"\n",
    "    n=0 #class variable, number in system\n",
    "\n",
    "    def run(self):\n",
    "        Arrival.n +=1\n",
    "        arrivetime = now()\n",
    "        G.numbermon.observe(Arrival.n)\n",
    "        if (Arrival.n>0):\n",
    "            G.busymon.observe(1)\n",
    "        else:\n",
    "            G.busymon.observe(0)\n",
    "        yield request, self, G.server\n",
    "        yield hold, self, random.expovariate(ServiceRate)\n",
    "        yield release, self, G.server\n",
    "        Arrival.n -=1\n",
    "        G.numbermon.observe(Arrival.n)\n",
    "        if (Arrival.n>0):\n",
    "            G.busymon.observe(1)\n",
    "        else:\n",
    "            G.busymon.observe(0)\n",
    "        delay = now()-arrivetime\n",
    "        G.delaymon.observe(delay)\n"
   ]
  },
  {
   "cell_type": "code",
   "execution_count": 4,
   "id": "866a5af5",
   "metadata": {},
   "outputs": [],
   "source": [
    "class G:\n",
    "    server = 'dummy'\n",
    "    delaymon = 'Monitor' #observe time spent in system\n",
    "    numbermon = \"Monitor\" #observe number customer in system\n",
    "    busymon = 'Monitor' #observe time servers are busy"
   ]
  },
  {
   "cell_type": "code",
   "execution_count": 5,
   "id": "633b21bd",
   "metadata": {},
   "outputs": [],
   "source": [
    "def model(N, maxtime, rvseed,K):\n",
    "    # setup\n",
    "    initialize()\n",
    "    random.seed(rvseed)\n",
    "    G.server = Resource(K)\n",
    "    G.delaymon = Monitor()\n",
    "    G.numbermon = Monitor()\n",
    "    G.busymon = Monitor()\n",
    "\n",
    "\n",
    "    Arrival.n = 0\n",
    "    # simulate\n",
    "    s = Source('Source')\n",
    "    activate(s, s.run(N))\n",
    "    simulate(until=maxtime)\n",
    "\n",
    "    # gather performance measures\n",
    "    W = G.delaymon.mean()\n",
    "    L = G.numbermon.timeAverage()\n",
    "    B = G.busymon.timeAverage()\n",
    "    return W, L, B"
   ]
  },
  {
   "cell_type": "code",
   "execution_count": 6,
   "id": "62f29c9d",
   "metadata": {},
   "outputs": [
    {
     "ename": "NameError",
     "evalue": "name 'rd' is not defined",
     "output_type": "error",
     "traceback": [
      "\u001b[1;31m---------------------------------------------------------------------------\u001b[0m",
      "\u001b[1;31mNameError\u001b[0m                                 Traceback (most recent call last)",
      "\u001b[1;32m<ipython-input-6-57f50ee7c200>\u001b[0m in \u001b[0;36m<module>\u001b[1;34m\u001b[0m\n\u001b[0;32m      3\u001b[0m              \u001b[1;34m\"Data Collection\\TamaHoareData.txt\"\u001b[0m\u001b[1;33m,\u001b[0m\u001b[1;33m\u001b[0m\u001b[1;33m\u001b[0m\u001b[0m\n\u001b[0;32m      4\u001b[0m              \"Data Collection\\dataviviandong.txt\"]\n\u001b[1;32m----> 5\u001b[1;33m \u001b[0mresults\u001b[0m \u001b[1;33m=\u001b[0m \u001b[0mrd\u001b[0m\u001b[1;33m.\u001b[0m\u001b[0mReadData\u001b[0m\u001b[1;33m(\u001b[0m\u001b[0mfilenames\u001b[0m\u001b[1;33m=\u001b[0m\u001b[0mfilenames\u001b[0m\u001b[1;33m)\u001b[0m\u001b[1;33m\u001b[0m\u001b[1;33m\u001b[0m\u001b[0m\n\u001b[0m\u001b[0;32m      6\u001b[0m \u001b[0mAllArrivals\u001b[0m \u001b[1;33m=\u001b[0m \u001b[0mresults\u001b[0m\u001b[1;33m[\u001b[0m\u001b[1;36m0\u001b[0m\u001b[1;33m]\u001b[0m\u001b[1;33m\u001b[0m\u001b[1;33m\u001b[0m\u001b[0m\n\u001b[0;32m      7\u001b[0m \u001b[0mArrivalRate\u001b[0m \u001b[1;33m=\u001b[0m \u001b[1;36m1\u001b[0m\u001b[1;33m/\u001b[0m\u001b[0mnp\u001b[0m\u001b[1;33m.\u001b[0m\u001b[0mmean\u001b[0m\u001b[1;33m(\u001b[0m\u001b[0mAllArrivals\u001b[0m\u001b[1;33m)\u001b[0m\u001b[1;33m\u001b[0m\u001b[1;33m\u001b[0m\u001b[0m\n",
      "\u001b[1;31mNameError\u001b[0m: name 'rd' is not defined"
     ]
    }
   ],
   "source": [
    "filenames = [\"Data Collection\\KevinYeData.txt\",\n",
    "             \"Data Collection\\PatrickQData.txt\",\n",
    "             \"Data Collection\\TamaHoareData.txt\",\n",
    "             \"Data Collection\\dataviviandong.txt\"]\n",
    "results = rd.ReadData(filenames=filenames)\n",
    "AllArrivals = results[0]\n",
    "ArrivalRate = 1/np.mean(AllArrivals)\n",
    "AllServices = results[1]\n",
    "ServiceRate = 1/np.mean(AllServices)"
   ]
  },
  {
   "cell_type": "markdown",
   "id": "5f720227",
   "metadata": {},
   "source": [
    "The LAB Cafe is open from 7.30am to 3pm a total of 7.5 hours per day which is equivalent to 27000 seconds which would be the maxtime of each simulation."
   ]
  },
  {
   "cell_type": "code",
   "execution_count": 8,
   "id": "c99de1a8",
   "metadata": {},
   "outputs": [
    {
     "name": "stdout",
     "output_type": "stream",
     "text": [
      "=================\n",
      "When K= 3\n",
      "    Estimate of W: 127.14403384042575\n",
      "    Conf int of W: (125.07850823449746, 129.20955944635404)\n",
      "    Estimate of L: 1.0853339772074488\n",
      "    Conf int of L: (1.053049533747219, 1.1176184206676787)\n",
      "    Estimate of B: 0.6246586034558348\n",
      "    Conf int of B: (0.6147976595084468, 0.6345195474032228)\n",
      "    Estimate of LambdaEffective: 0.00852846013566267\n",
      "    Conf int of LambdaEffective: (0.008340342666118862, 0.008716577605206478)\n"
     ]
    }
   ],
   "source": [
    "## Experiment ----------------\n",
    "\n",
    "for Kap in [3]:\n",
    "    allW = []\n",
    "    allL = []\n",
    "    allB = []\n",
    "    allLambdaEffective = []\n",
    "\n",
    "    for k in range(50):\n",
    "        seed = 123*k\n",
    "        result = model(N=10000, maxtime=27000, rvseed=seed,K=Kap)\n",
    "        allW.append(result[0])\n",
    "        allL.append(result[1])\n",
    "        allB.append(result[2])\n",
    "        allLambdaEffective.append(result[1]/result[0])\n",
    "\n",
    "\n",
    "    print(\"=================\")\n",
    "    print(\"When K=\",Kap)\n",
    "    print(\"    Estimate of W:\", np.mean(allW))\n",
    "    print(\"    Conf int of W:\", conf(allW))\n",
    "    print(\"    Estimate of L:\", np.mean(allL))\n",
    "    print(\"    Conf int of L:\", conf(allL))\n",
    "    print(\"    Estimate of B:\", np.mean(allB))\n",
    "    print(\"    Conf int of B:\", conf(allB))\n",
    "    print(\"    Estimate of LambdaEffective:\", np.mean(allLambdaEffective))\n",
    "    print(\"    Conf int of LambdaEffective:\", conf(allLambdaEffective))"
   ]
  },
  {
   "cell_type": "markdown",
   "id": "d5e61662",
   "metadata": {},
   "source": [
    "Comparing it to the data gathered:"
   ]
  },
  {
   "cell_type": "code",
   "execution_count": 1,
   "id": "88b27cd3",
   "metadata": {},
   "outputs": [
    {
     "ename": "NameError",
     "evalue": "name 'model' is not defined",
     "output_type": "error",
     "traceback": [
      "\u001b[1;31m---------------------------------------------------------------------------\u001b[0m",
      "\u001b[1;31mNameError\u001b[0m                                 Traceback (most recent call last)",
      "\u001b[1;32m<ipython-input-1-b155fc1bdbcb>\u001b[0m in \u001b[0;36m<module>\u001b[1;34m\u001b[0m\n\u001b[0;32m      9\u001b[0m     \u001b[1;32mfor\u001b[0m \u001b[0mk\u001b[0m \u001b[1;32min\u001b[0m \u001b[0mrange\u001b[0m\u001b[1;33m(\u001b[0m\u001b[1;36m50\u001b[0m\u001b[1;33m)\u001b[0m\u001b[1;33m:\u001b[0m\u001b[1;33m\u001b[0m\u001b[1;33m\u001b[0m\u001b[0m\n\u001b[0;32m     10\u001b[0m         \u001b[0mseed\u001b[0m \u001b[1;33m=\u001b[0m \u001b[1;36m123\u001b[0m\u001b[1;33m*\u001b[0m\u001b[0mk\u001b[0m\u001b[1;33m\u001b[0m\u001b[1;33m\u001b[0m\u001b[0m\n\u001b[1;32m---> 11\u001b[1;33m         \u001b[0mresult\u001b[0m \u001b[1;33m=\u001b[0m \u001b[0mmodel\u001b[0m\u001b[1;33m(\u001b[0m\u001b[0mN\u001b[0m\u001b[1;33m=\u001b[0m\u001b[1;36m10000\u001b[0m\u001b[1;33m,\u001b[0m \u001b[0mmaxtime\u001b[0m\u001b[1;33m=\u001b[0m\u001b[1;36m27000\u001b[0m\u001b[1;33m,\u001b[0m \u001b[0mrvseed\u001b[0m\u001b[1;33m=\u001b[0m\u001b[0mseed\u001b[0m\u001b[1;33m,\u001b[0m\u001b[0mK\u001b[0m\u001b[1;33m=\u001b[0m\u001b[0mKap\u001b[0m\u001b[1;33m)\u001b[0m\u001b[1;33m\u001b[0m\u001b[1;33m\u001b[0m\u001b[0m\n\u001b[0m\u001b[0;32m     12\u001b[0m         \u001b[0mallW\u001b[0m\u001b[1;33m.\u001b[0m\u001b[0mappend\u001b[0m\u001b[1;33m(\u001b[0m\u001b[0mresult\u001b[0m\u001b[1;33m[\u001b[0m\u001b[1;36m0\u001b[0m\u001b[1;33m]\u001b[0m\u001b[1;33m)\u001b[0m\u001b[1;33m\u001b[0m\u001b[1;33m\u001b[0m\u001b[0m\n\u001b[0;32m     13\u001b[0m         \u001b[0mallL\u001b[0m\u001b[1;33m.\u001b[0m\u001b[0mappend\u001b[0m\u001b[1;33m(\u001b[0m\u001b[0mresult\u001b[0m\u001b[1;33m[\u001b[0m\u001b[1;36m1\u001b[0m\u001b[1;33m]\u001b[0m\u001b[1;33m)\u001b[0m\u001b[1;33m\u001b[0m\u001b[1;33m\u001b[0m\u001b[0m\n",
      "\u001b[1;31mNameError\u001b[0m: name 'model' is not defined"
     ]
    }
   ],
   "source": [
    "## Experiment ----------------\n",
    "\n",
    "for Kap in [3]:\n",
    "    allW = []\n",
    "    allL = []\n",
    "    allB = []\n",
    "    allLambdaEffective = []\n",
    "\n",
    "    for k in range(50):\n",
    "        seed = 123*k\n",
    "        result = model(N=10000, maxtime=27000, rvseed=seed,K=Kap)\n",
    "        allW.append(result[0])\n",
    "        allL.append(result[1])\n",
    "        allB.append(result[2])\n",
    "        allLambdaEffective.append(result[1]/result[0])\n",
    "\n",
    "\n",
    "    print(\"=================\")\n",
    "    print(\"When K=\",Kap)\n",
    "    print(\"    Estimate of W:\", np.mean(allW))\n",
    "    print(\"    Conf int of W:\", conf(allW))\n",
    "    print(\"    Estimate of L:\", np.mean(allL))\n",
    "    print(\"    Conf int of L:\", conf(allL))\n",
    "    print(\"    Estimate of B:\", np.mean(allB))\n",
    "    print(\"    Conf int of B:\", conf(allB))\n",
    "    print(\"    Estimate of LambdaEffective:\", np.mean(allLambdaEffective))\n",
    "    print(\"    Conf int of LambdaEffective:\", conf(allLambdaEffective))"
   ]
  },
  {
   "cell_type": "code",
   "execution_count": null,
   "id": "27b9714f",
   "metadata": {},
   "outputs": [],
   "source": []
  }
 ],
 "metadata": {
  "interpreter": {
   "hash": "6b995c587bfca392f6a8664946034fced53f03b903d006503e000a6b9a9b0eaa"
  },
  "kernelspec": {
   "display_name": "Python 3",
   "language": "python",
   "name": "python3"
  },
  "language_info": {
   "codemirror_mode": {
    "name": "ipython",
    "version": 3
   },
   "file_extension": ".py",
   "mimetype": "text/x-python",
   "name": "python",
   "nbconvert_exporter": "python",
   "pygments_lexer": "ipython3",
   "version": "3.8.8"
  }
 },
 "nbformat": 4,
 "nbformat_minor": 5
}
